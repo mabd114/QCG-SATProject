{
  "nbformat": 4,
  "nbformat_minor": 0,
  "metadata": {
    "colab": {
      "name": "QCGgrover-project.ipynb",
      "provenance": [],
      "collapsed_sections": []
    },
    "kernelspec": {
      "name": "python3",
      "display_name": "Python 3"
    },
    "language_info": {
      "name": "python"
    }
  },
  "cells": [
    {
      "cell_type": "code",
      "source": [
        "!pip install qiskit\n",
        "import qiskit as q"
      ],
      "metadata": {
        "colab": {
          "base_uri": "https://localhost:8080/"
        },
        "id": "6XZ70oVgQV-o",
        "outputId": "6bea5b46-34d0-4f85-cc47-af8c89079bec"
      },
      "execution_count": 20,
      "outputs": [
        {
          "output_type": "stream",
          "name": "stdout",
          "text": [
            "Looking in indexes: https://pypi.org/simple, https://us-python.pkg.dev/colab-wheels/public/simple/\n",
            "Requirement already satisfied: qiskit in /usr/local/lib/python3.7/dist-packages (0.36.2)\n",
            "Requirement already satisfied: qiskit-ibmq-provider==0.19.1 in /usr/local/lib/python3.7/dist-packages (from qiskit) (0.19.1)\n",
            "Requirement already satisfied: qiskit-ignis==0.7.1 in /usr/local/lib/python3.7/dist-packages (from qiskit) (0.7.1)\n",
            "Requirement already satisfied: qiskit-terra==0.20.2 in /usr/local/lib/python3.7/dist-packages (from qiskit) (0.20.2)\n",
            "Requirement already satisfied: qiskit-aer==0.10.4 in /usr/local/lib/python3.7/dist-packages (from qiskit) (0.10.4)\n",
            "Requirement already satisfied: numpy>=1.16.3 in /usr/local/lib/python3.7/dist-packages (from qiskit-aer==0.10.4->qiskit) (1.21.6)\n",
            "Requirement already satisfied: scipy>=1.0 in /usr/local/lib/python3.7/dist-packages (from qiskit-aer==0.10.4->qiskit) (1.7.3)\n",
            "Requirement already satisfied: websockets>=10.0 in /usr/local/lib/python3.7/dist-packages (from qiskit-ibmq-provider==0.19.1->qiskit) (10.3)\n",
            "Requirement already satisfied: requests>=2.19 in /usr/local/lib/python3.7/dist-packages (from qiskit-ibmq-provider==0.19.1->qiskit) (2.23.0)\n",
            "Requirement already satisfied: websocket-client>=1.0.1 in /usr/local/lib/python3.7/dist-packages (from qiskit-ibmq-provider==0.19.1->qiskit) (1.3.2)\n",
            "Requirement already satisfied: urllib3>=1.21.1 in /usr/local/lib/python3.7/dist-packages (from qiskit-ibmq-provider==0.19.1->qiskit) (1.24.3)\n",
            "Requirement already satisfied: python-dateutil>=2.8.0 in /usr/local/lib/python3.7/dist-packages (from qiskit-ibmq-provider==0.19.1->qiskit) (2.8.2)\n",
            "Requirement already satisfied: requests-ntlm>=1.1.0 in /usr/local/lib/python3.7/dist-packages (from qiskit-ibmq-provider==0.19.1->qiskit) (1.1.0)\n",
            "Requirement already satisfied: setuptools>=40.1.0 in /usr/local/lib/python3.7/dist-packages (from qiskit-ignis==0.7.1->qiskit) (57.4.0)\n",
            "Requirement already satisfied: retworkx>=0.8.0 in /usr/local/lib/python3.7/dist-packages (from qiskit-ignis==0.7.1->qiskit) (0.11.0)\n",
            "Requirement already satisfied: tweedledum<2.0,>=1.1 in /usr/local/lib/python3.7/dist-packages (from qiskit-terra==0.20.2->qiskit) (1.1.1)\n",
            "Requirement already satisfied: symengine>=0.9 in /usr/local/lib/python3.7/dist-packages (from qiskit-terra==0.20.2->qiskit) (0.9.2)\n",
            "Requirement already satisfied: psutil>=5 in /usr/local/lib/python3.7/dist-packages (from qiskit-terra==0.20.2->qiskit) (5.4.8)\n",
            "Requirement already satisfied: sympy>=1.3 in /usr/local/lib/python3.7/dist-packages (from qiskit-terra==0.20.2->qiskit) (1.7.1)\n",
            "Requirement already satisfied: stevedore>=3.0.0 in /usr/local/lib/python3.7/dist-packages (from qiskit-terra==0.20.2->qiskit) (3.5.0)\n",
            "Requirement already satisfied: dill>=0.3 in /usr/local/lib/python3.7/dist-packages (from qiskit-terra==0.20.2->qiskit) (0.3.5.1)\n",
            "Requirement already satisfied: ply>=3.10 in /usr/local/lib/python3.7/dist-packages (from qiskit-terra==0.20.2->qiskit) (3.11)\n",
            "Requirement already satisfied: python-constraint>=1.4 in /usr/local/lib/python3.7/dist-packages (from qiskit-terra==0.20.2->qiskit) (1.4.0)\n",
            "Requirement already satisfied: six>=1.5 in /usr/local/lib/python3.7/dist-packages (from python-dateutil>=2.8.0->qiskit-ibmq-provider==0.19.1->qiskit) (1.15.0)\n",
            "Requirement already satisfied: certifi>=2017.4.17 in /usr/local/lib/python3.7/dist-packages (from requests>=2.19->qiskit-ibmq-provider==0.19.1->qiskit) (2022.6.15)\n",
            "Requirement already satisfied: idna<3,>=2.5 in /usr/local/lib/python3.7/dist-packages (from requests>=2.19->qiskit-ibmq-provider==0.19.1->qiskit) (2.10)\n",
            "Requirement already satisfied: chardet<4,>=3.0.2 in /usr/local/lib/python3.7/dist-packages (from requests>=2.19->qiskit-ibmq-provider==0.19.1->qiskit) (3.0.4)\n",
            "Requirement already satisfied: cryptography>=1.3 in /usr/local/lib/python3.7/dist-packages (from requests-ntlm>=1.1.0->qiskit-ibmq-provider==0.19.1->qiskit) (37.0.2)\n",
            "Requirement already satisfied: ntlm-auth>=1.0.2 in /usr/local/lib/python3.7/dist-packages (from requests-ntlm>=1.1.0->qiskit-ibmq-provider==0.19.1->qiskit) (1.5.0)\n",
            "Requirement already satisfied: cffi>=1.12 in /usr/local/lib/python3.7/dist-packages (from cryptography>=1.3->requests-ntlm>=1.1.0->qiskit-ibmq-provider==0.19.1->qiskit) (1.15.0)\n",
            "Requirement already satisfied: pycparser in /usr/local/lib/python3.7/dist-packages (from cffi>=1.12->cryptography>=1.3->requests-ntlm>=1.1.0->qiskit-ibmq-provider==0.19.1->qiskit) (2.21)\n",
            "Requirement already satisfied: importlib-metadata>=1.7.0 in /usr/local/lib/python3.7/dist-packages (from stevedore>=3.0.0->qiskit-terra==0.20.2->qiskit) (4.11.4)\n",
            "Requirement already satisfied: pbr!=2.1.0,>=2.0.0 in /usr/local/lib/python3.7/dist-packages (from stevedore>=3.0.0->qiskit-terra==0.20.2->qiskit) (5.9.0)\n",
            "Requirement already satisfied: zipp>=0.5 in /usr/local/lib/python3.7/dist-packages (from importlib-metadata>=1.7.0->stevedore>=3.0.0->qiskit-terra==0.20.2->qiskit) (3.8.0)\n",
            "Requirement already satisfied: typing-extensions>=3.6.4 in /usr/local/lib/python3.7/dist-packages (from importlib-metadata>=1.7.0->stevedore>=3.0.0->qiskit-terra==0.20.2->qiskit) (4.1.1)\n",
            "Requirement already satisfied: mpmath>=0.19 in /usr/local/lib/python3.7/dist-packages (from sympy>=1.3->qiskit-terra==0.20.2->qiskit) (1.2.1)\n"
          ]
        }
      ]
    },
    {
      "cell_type": "code",
      "execution_count": 21,
      "metadata": {
        "colab": {
          "base_uri": "https://localhost:8080/"
        },
        "id": "bLg3KiTYP3tr",
        "outputId": "efa0653e-3a52-4cbb-e880-c4d88fc84c67"
      },
      "outputs": [
        {
          "output_type": "stream",
          "name": "stdout",
          "text": [
            "Looking in indexes: https://pypi.org/simple, https://us-python.pkg.dev/colab-wheels/public/simple/\n",
            "Requirement already satisfied: pylatexenc in /usr/local/lib/python3.7/dist-packages (2.10)\n"
          ]
        }
      ],
      "source": [
        "!pip install pylatexenc\n",
        "import pylatexenc"
      ]
    },
    {
      "cell_type": "code",
      "source": [
        "from qiskit.quantum_info import Statevector, Operator, ScalarOp, DensityMatrix\n",
        "from qiskit import QuantumRegister\n",
        "from qiskit import QuantumCircuit, Aer, assemble\n",
        "from qiskit.visualization import plot_histogram, plot_bloch_vector\n",
        "from math import sqrt, pi\n",
        "import matplotlib.pyplot as plt\n",
        "from qiskit import BasicAer\n",
        "from qiskit.providers.aer import QasmSimulator"
      ],
      "metadata": {
        "id": "f-7vnQYwQ2Uc"
      },
      "execution_count": 23,
      "outputs": []
    },
    {
      "cell_type": "code",
      "source": [
        "from qiskit import *\n",
        "import numpy as np\n",
        "import qiskit.quantum_info as qi\n",
        "from qiskit.utils import QuantumInstance\n",
        "from qiskit import QuantumCircuit, transpile\n",
        "from qiskit.providers.basicaer import QasmSimulatorPy\n",
        "from qiskit.providers.aer import QasmSimulator"
      ],
      "metadata": {
        "id": "9BXbwYNARdzN"
      },
      "execution_count": 25,
      "outputs": []
    },
    {
      "cell_type": "code",
      "source": [
        "import time\n",
        "from IPython import display\n",
        "True"
      ],
      "metadata": {
        "colab": {
          "base_uri": "https://localhost:8080/"
        },
        "id": "9xWXTo3bRx1G",
        "outputId": "fdade5e8-5cb4-4022-a7cf-738e2def7739"
      },
      "execution_count": 26,
      "outputs": [
        {
          "output_type": "execute_result",
          "data": {
            "text/plain": [
              "True"
            ]
          },
          "metadata": {},
          "execution_count": 26
        }
      ]
    },
    {
      "cell_type": "code",
      "source": [
        "#Defining the expression in a function\n",
        "def fun(a,b,c,e,f):\n",
        "  fun= ((not c or (d and (not e)))and a and b)\n",
        "  if fun==True:\n",
        "    fun=1\n",
        "  else :\n",
        "    fun=0\n",
        "  return fun"
      ],
      "metadata": {
        "id": "64ChtcmSR4z4"
      },
      "execution_count": 27,
      "outputs": []
    },
    {
      "cell_type": "code",
      "source": [
        "#All possible combinations into a diagonal array\n",
        "from re import A\n",
        "diag=np.arange(1024).reshape(32,32)\n",
        "for m in [0,1]:\n",
        "  if m==0:\n",
        "      a=False\n",
        "  else :\n",
        "      a=True\n",
        "  for q in [0,1]:\n",
        "    if q==0:\n",
        "           b=False\n",
        "    else :\n",
        "            b=True\n",
        "    for i in [0,1]:\n",
        "        if i==0:\n",
        "           c=False\n",
        "        else :\n",
        "            c=True\n",
        "        for j in [0,1]:\n",
        "           if j==0:\n",
        "              d=False\n",
        "           else :\n",
        "              d=True \n",
        "           for k in [0,1]:\n",
        "                if k==0:\n",
        "                   e=False\n",
        "                else :\n",
        "                   e=True \n",
        "                z=m*(16)+q*(8)+i*(4)+j*(2)+k\n",
        "                for y in range(0,32):\n",
        "                     if y==z:\n",
        "                        diag[y,z]=(-1)**(fun(a,b,c,e,k)) \n",
        "                     else:\n",
        "                        diag[y,z]=0\n",
        "print(diag)"
      ],
      "metadata": {
        "colab": {
          "base_uri": "https://localhost:8080/"
        },
        "id": "7HF58LU2SQyM",
        "outputId": "bf2810d9-a479-458e-f71d-fd0c596a3d25"
      },
      "execution_count": 28,
      "outputs": [
        {
          "output_type": "stream",
          "name": "stdout",
          "text": [
            "[[ 1  0  0 ...  0  0  0]\n",
            " [ 0  1  0 ...  0  0  0]\n",
            " [ 0  0  1 ...  0  0  0]\n",
            " ...\n",
            " [ 0  0  0 ...  1  0  0]\n",
            " [ 0  0  0 ...  0 -1  0]\n",
            " [ 0  0  0 ...  0  0  1]]\n"
          ]
        }
      ]
    },
    {
      "cell_type": "code",
      "source": [
        "#Oracle formation\n",
        "Oracle=QuantumCircuit(5,name='oracle')\n",
        "racl=Operator(diag)\n",
        "Oracle.unitary(racl,[0,1,2,3,4],label='Oracle')\n",
        "Oracle.draw()"
      ],
      "metadata": {
        "colab": {
          "base_uri": "https://localhost:8080/",
          "height": 186
        },
        "id": "E8TPkwZLSh3C",
        "outputId": "78790bbb-f34e-4731-96bd-617fc2175356"
      },
      "execution_count": 29,
      "outputs": [
        {
          "output_type": "execute_result",
          "data": {
            "text/plain": [
              "     ┌─────────┐\n",
              "q_0: ┤0        ├\n",
              "     │         │\n",
              "q_1: ┤1        ├\n",
              "     │         │\n",
              "q_2: ┤2 Oracle ├\n",
              "     │         │\n",
              "q_3: ┤3        ├\n",
              "     │         │\n",
              "q_4: ┤4        ├\n",
              "     └─────────┘"
            ],
            "text/html": [
              "<pre style=\"word-wrap: normal;white-space: pre;background: #fff0;line-height: 1.1;font-family: &quot;Courier New&quot;,Courier,monospace\">     ┌─────────┐\n",
              "q_0: ┤0        ├\n",
              "     │         │\n",
              "q_1: ┤1        ├\n",
              "     │         │\n",
              "q_2: ┤2 Oracle ├\n",
              "     │         │\n",
              "q_3: ┤3        ├\n",
              "     │         │\n",
              "q_4: ┤4        ├\n",
              "     └─────────┘</pre>"
            ]
          },
          "metadata": {},
          "execution_count": 29
        }
      ]
    },
    {
      "cell_type": "code",
      "source": [
        "#Reflection code\n",
        "qcdif = QuantumCircuit(5,name='Reflect')\n",
        "for qubits in range (5) :\n",
        "   qcdif.h(qubits)\n",
        "for qubits in range (5) :\n",
        "   qcdif.x(qubits)\n",
        "qcdif.h([4])\n",
        "qcdif.mct(list(range(4)),4)\n",
        "qcdif.h(4)\n",
        "for qubits in range (5) :\n",
        "   qcdif.x(qubits)\n",
        "for qubits in range (5) :\n",
        "   qcdif.h(qubits)\n",
        "qcdif.draw()"
      ],
      "metadata": {
        "colab": {
          "base_uri": "https://localhost:8080/",
          "height": 186
        },
        "id": "3PD2SUzOTU2Y",
        "outputId": "36761bcd-b359-4a6a-82dd-d27d982e1293"
      },
      "execution_count": 77,
      "outputs": [
        {
          "output_type": "execute_result",
          "data": {
            "text/plain": [
              "     ┌───┐┌───┐          ┌───┐┌───┐     \n",
              "q_0: ┤ H ├┤ X ├───────■──┤ X ├┤ H ├─────\n",
              "     ├───┤├───┤       │  ├───┤├───┤     \n",
              "q_1: ┤ H ├┤ X ├───────■──┤ X ├┤ H ├─────\n",
              "     ├───┤├───┤       │  ├───┤├───┤     \n",
              "q_2: ┤ H ├┤ X ├───────■──┤ X ├┤ H ├─────\n",
              "     ├───┤├───┤       │  ├───┤├───┤     \n",
              "q_3: ┤ H ├┤ X ├───────■──┤ X ├┤ H ├─────\n",
              "     ├───┤├───┤┌───┐┌─┴─┐├───┤├───┤┌───┐\n",
              "q_4: ┤ H ├┤ X ├┤ H ├┤ X ├┤ H ├┤ X ├┤ H ├\n",
              "     └───┘└───┘└───┘└───┘└───┘└───┘└───┘"
            ],
            "text/html": [
              "<pre style=\"word-wrap: normal;white-space: pre;background: #fff0;line-height: 1.1;font-family: &quot;Courier New&quot;,Courier,monospace\">     ┌───┐┌───┐          ┌───┐┌───┐     \n",
              "q_0: ┤ H ├┤ X ├───────■──┤ X ├┤ H ├─────\n",
              "     ├───┤├───┤       │  ├───┤├───┤     \n",
              "q_1: ┤ H ├┤ X ├───────■──┤ X ├┤ H ├─────\n",
              "     ├───┤├───┤       │  ├───┤├───┤     \n",
              "q_2: ┤ H ├┤ X ├───────■──┤ X ├┤ H ├─────\n",
              "     ├───┤├───┤       │  ├───┤├───┤     \n",
              "q_3: ┤ H ├┤ X ├───────■──┤ X ├┤ H ├─────\n",
              "     ├───┤├───┤┌───┐┌─┴─┐├───┤├───┤┌───┐\n",
              "q_4: ┤ H ├┤ X ├┤ H ├┤ X ├┤ H ├┤ X ├┤ H ├\n",
              "     └───┘└───┘└───┘└───┘└───┘└───┘└───┘</pre>"
            ]
          },
          "metadata": {},
          "execution_count": 77
        }
      ]
    },
    {
      "cell_type": "code",
      "source": [
        "#Initialisation\n",
        "backend = Aer.get_backend('statevector_simulator')\n",
        "algo_ckt= QuantumCircuit(5,5)\n",
        "for qubits in range (5) :\n",
        "  algo_ckt.h(qubits)\n",
        "algo_ckt.append(Oracle,[0,1,2,3,4])\n",
        "algo_ckt.draw(\"mpl\")"
      ],
      "metadata": {
        "colab": {
          "base_uri": "https://localhost:8080/",
          "height": 322
        },
        "id": "GS14F_QVUQm3",
        "outputId": "8450200f-5226-44ec-cd47-042fbe52cf8b"
      },
      "execution_count": 89,
      "outputs": [
        {
          "output_type": "execute_result",
          "data": {
            "text/plain": [
              "<Figure size 267.197x385.28 with 1 Axes>"
            ],
            "image/png": "[encoded data removed]"
          },
          "metadata": {},
          "execution_count": 89
        }
      ]
    },
    {
      "cell_type": "code",
      "source": [
        "#Applying the algorithm\n",
        "algo_qr = QuantumRegister(5)\n",
        "algo_qc = QuantumCircuit(algo_qr, name='Oracle')\n",
        "algo_qc.h([0,1,2,3,4])\n",
        "\n",
        "#Oracle & Reflection\n",
        "algo_qc.append(Oracle,[0,1,2,3,4])\n",
        "algo_qc.append(qcdif,[0,1,2,3,4])\n",
        "\n",
        "#Measurement\n",
        "\n",
        "job=execute(algo_qc,backend)\n",
        "result = job.result()\n",
        "StV = qi.Statevector.from_instruction(algo_qc)\n",
        "\n",
        "algo_qc.measure_all()\n",
        "algo_qc.draw()"
      ],
      "metadata": {
        "colab": {
          "base_uri": "https://localhost:8080/",
          "height": 217
        },
        "id": "nJX3SO7lU2h9",
        "outputId": "04d0db9a-c5e0-4444-c1ef-c43f9f33315e"
      },
      "execution_count": 90,
      "outputs": [
        {
          "output_type": "execute_result",
          "data": {
            "text/plain": [
              "        ┌───┐┌─────────┐┌──────────┐ ░ ┌─┐            \n",
              "q382_0: ┤ H ├┤0        ├┤0         ├─░─┤M├────────────\n",
              "        ├───┤│         ││          │ ░ └╥┘┌─┐         \n",
              "q382_1: ┤ H ├┤1        ├┤1         ├─░──╫─┤M├─────────\n",
              "        ├───┤│         ││          │ ░  ║ └╥┘┌─┐      \n",
              "q382_2: ┤ H ├┤2 oracle ├┤2 Reflect ├─░──╫──╫─┤M├──────\n",
              "        ├───┤│         ││          │ ░  ║  ║ └╥┘┌─┐   \n",
              "q382_3: ┤ H ├┤3        ├┤3         ├─░──╫──╫──╫─┤M├───\n",
              "        ├───┤│         ││          │ ░  ║  ║  ║ └╥┘┌─┐\n",
              "q382_4: ┤ H ├┤4        ├┤4         ├─░──╫──╫──╫──╫─┤M├\n",
              "        └───┘└─────────┘└──────────┘ ░  ║  ║  ║  ║ └╥┘\n",
              "meas: 5/════════════════════════════════╩══╩══╩══╩══╩═\n",
              "                                        0  1  2  3  4 "
            ],
            "text/html": [
              "<pre style=\"word-wrap: normal;white-space: pre;background: #fff0;line-height: 1.1;font-family: &quot;Courier New&quot;,Courier,monospace\">        ┌───┐┌─────────┐┌──────────┐ ░ ┌─┐            \n",
              "q382_0: ┤ H ├┤0        ├┤0         ├─░─┤M├────────────\n",
              "        ├───┤│         ││          │ ░ └╥┘┌─┐         \n",
              "q382_1: ┤ H ├┤1        ├┤1         ├─░──╫─┤M├─────────\n",
              "        ├───┤│         ││          │ ░  ║ └╥┘┌─┐      \n",
              "q382_2: ┤ H ├┤2 oracle ├┤2 Reflect ├─░──╫──╫─┤M├──────\n",
              "        ├───┤│         ││          │ ░  ║  ║ └╥┘┌─┐   \n",
              "q382_3: ┤ H ├┤3        ├┤3         ├─░──╫──╫──╫─┤M├───\n",
              "        ├───┤│         ││          │ ░  ║  ║  ║ └╥┘┌─┐\n",
              "q382_4: ┤ H ├┤4        ├┤4         ├─░──╫──╫──╫──╫─┤M├\n",
              "        └───┘└─────────┘└──────────┘ ░  ║  ║  ║  ║ └╥┘\n",
              "meas: 5/════════════════════════════════╩══╩══╩══╩══╩═\n",
              "                                        0  1  2  3  4 </pre>"
            ]
          },
          "metadata": {},
          "execution_count": 90
        }
      ]
    },
    {
      "cell_type": "code",
      "source": [
        "#Measurement of each possible combination. Favourable solutions have higher probablities,\n",
        "#hence found the correct(favourable) solutions among all combinations\n",
        "sim = QasmSimulator()\n",
        "options = {'method': 'statevector'}\n",
        "execute(algo_qc, sim, backend_options=options)\n",
        "StV.draw('latex')"
      ],
      "metadata": {
        "colab": {
          "base_uri": "https://localhost:8080/",
          "height": 64
        },
        "id": "LuLrJC0YWlKd",
        "outputId": "7c584dec-711d-4560-85dc-1d814485eba1"
      },
      "execution_count": 91,
      "outputs": [
        {
          "output_type": "execute_result",
          "data": {
            "text/plain": [
              "<IPython.core.display.Latex object>"
            ],
            "text/latex": "$$- \\frac{3 \\sqrt{2}}{64} |00000\\rangle- \\frac{3 \\sqrt{2}}{64} |00001\\rangle- \\frac{3 \\sqrt{2}}{64} |00010\\rangle- \\frac{3 \\sqrt{2}}{64} |00011\\rangle- \\frac{3 \\sqrt{2}}{64} |00100\\rangle- \\frac{3 \\sqrt{2}}{64} |00101\\rangle + \\ldots -0.419844651329512 |11011\\rangle- \\frac{3 \\sqrt{2}}{64} |11100\\rangle- \\frac{3 \\sqrt{2}}{64} |11101\\rangle-0.419844651329512 |11110\\rangle- \\frac{3 \\sqrt{2}}{64} |11111\\rangle$$"
          },
          "metadata": {},
          "execution_count": 91
        }
      ]
    },
    {
      "cell_type": "code",
      "source": [
        "#Histogram plot(Favorable solutions identified )\n",
        "aer_sim = Aer.get_backend('aer_simulator')\n",
        "transpiled_algo_ckt = transpile(algo_qc, aer_sim)\n",
        "qobj = assemble(transpiled_algo_ckt)\n",
        "results = aer_sim.run(qobj).result()\n",
        "counts = results.get_counts()\n",
        "plot_histogram(counts)"
      ],
      "metadata": {
        "colab": {
          "base_uri": "https://localhost:8080/",
          "height": 356
        },
        "id": "2FfOjXXbW7Gr",
        "outputId": "e134e2db-547d-4793-981a-1b7e8688ea62"
      },
      "execution_count": 92,
      "outputs": [
        {
          "output_type": "execute_result",
          "data": {
            "text/plain": [
              "<Figure size 504x360 with 1 Axes>"
            ],
            "image/png": "[encoded data removed]"
          },
          "metadata": {},
          "execution_count": 92
        }
      ]
    }
  ]
}